{
 "cells": [
  {
   "cell_type": "markdown",
   "id": "9146ba41-0388-4f18-82ac-07969b6ef001",
   "metadata": {
    "editable": true,
    "slideshow": {
     "slide_type": ""
    },
    "tags": []
   },
   "source": [
    "# St. Clair County Land Use and Parcel Data Pipeline"
   ]
  },
  {
   "cell_type": "code",
   "execution_count": null,
   "id": "b2e693eb-091b-4fbf-bae5-d68def34b48e",
   "metadata": {
    "scrolled": true
   },
   "outputs": [],
   "source": [
    "!pip3 install Selenium\n",
    "!pip3 install pandas\n",
    "!pip3 install lxml\n",
    "!pip3 install html5lib\n",
    "!pip3 install findspark\n",
    "!pip3 install ydata-profiling[notebook]\n",
    "!pip3 install ydata-profiling[pyspark]"
   ]
  },
  {
   "cell_type": "code",
   "execution_count": null,
   "id": "f7a5d49d-4b78-4de6-a774-6a737c4e405f",
   "metadata": {},
   "outputs": [],
   "source": [
    "import csv\n",
    "import json\n",
    "import math\n",
    "import os\n",
    "import pprint\n",
    "import re\n",
    "import requests\n",
    "import time\n",
    "import queue\n",
    "\n",
    "import findspark\n",
    "findspark.init()\n",
    "import pandas as pd\n",
    "import pyspark.sql.functions as F"
   ]
  },
  {
   "cell_type": "code",
   "execution_count": null,
   "id": "32d5c69b-c33e-495e-aa43-13bfef945049",
   "metadata": {},
   "outputs": [],
   "source": [
    "from bs4 import BeautifulSoup\n",
    "from concurrent.futures import ThreadPoolExecutor, as_completed, wait\n",
    "from datetime import timedelta\n",
    "from io import StringIO\n",
    "from queue import Queue\n",
    "from threading import Lock, RLock, Thread\n",
    "from typing import Any\n",
    "\n",
    "from pyspark.sql import SparkSession\n",
    "from pyspark.sql import DataFrame\n",
    "from selenium import webdriver\n",
    "from selenium.webdriver.chrome.options import Options\n",
    "from selenium.webdriver.common.by import By\n",
    "from selenium.webdriver.common.action_chains import ActionChains\n",
    "from selenium.webdriver.support.ui import WebDriverWait\n",
    "from selenium.webdriver.support import expected_conditions as EC\n",
    "from selenium.webdriver.support.select import Select\n",
    "from ydata_profiling import ProfileReport"
   ]
  },
  {
   "cell_type": "code",
   "execution_count": null,
   "id": "404dff53-6701-4f78-a829-df705709f8eb",
   "metadata": {},
   "outputs": [],
   "source": [
    "from IPython.core.display import HTML\n",
    "display(HTML(\"<style>pre { white-space: pre !important; }</style>\"))"
   ]
  },
  {
   "cell_type": "markdown",
   "id": "473738ef-4e9f-4f58-8ae9-1cb6b4fcbf0f",
   "metadata": {},
   "source": [
    "## Extraction"
   ]
  },
  {
   "cell_type": "code",
   "execution_count": null,
   "id": "b1bdbbe5-0541-4049-8e8f-e3ac73af67bb",
   "metadata": {},
   "outputs": [],
   "source": [
    "search_pg = \"https://stclairil.devnetwedge.com/\"\n",
    "cwd = os.getcwd()"
   ]
  },
  {
   "cell_type": "markdown",
   "id": "79079401-3c62-4bef-a340-8fef3e50d7ac",
   "metadata": {
    "collapsed": true,
    "jupyter": {
     "outputs_hidden": true
    }
   },
   "source": [
    "### Download St. Clair Co. Property Tax Inquiry Selected Townships Parcel Listing "
   ]
  },
  {
   "cell_type": "code",
   "execution_count": null,
   "id": "a23aaf0c-d4f7-4569-b3ae-9d11980338e2",
   "metadata": {},
   "outputs": [],
   "source": [
    "options = Options()\n",
    "options.add_argument(\"--start-maximized\")\n",
    "options.add_argument(\"--headless=new\")\n",
    "prefs = {\"download.default_directory\": f\"{cwd}\"}\n",
    "options.add_experimental_option(\"prefs\", prefs)"
   ]
  },
  {
   "cell_type": "code",
   "execution_count": null,
   "id": "c688c0cf-7769-41ad-a1a0-a53f33185fe0",
   "metadata": {},
   "outputs": [],
   "source": [
    "driver = webdriver.Chrome(options)\n",
    "driver.implicitly_wait(3)\n",
    "driver.get(search_pg)"
   ]
  },
  {
   "cell_type": "code",
   "execution_count": null,
   "id": "e3880df7-f7d4-4096-8a4d-5f45d4fcfcf0",
   "metadata": {
    "scrolled": true
   },
   "outputs": [],
   "source": [
    "# Click into Advanced Search Tab\n",
    "advance_search_tab = WebDriverWait(driver, 10).until(\n",
    "    EC.presence_of_element_located((By.XPATH, \"//a[@href='#advanced-search']\"))\n",
    ")\n",
    "advance_search_tab.click()"
   ]
  },
  {
   "cell_type": "code",
   "execution_count": null,
   "id": "74a9e1c6-c1d3-4acd-bd9c-76a98c49a11b",
   "metadata": {
    "scrolled": true
   },
   "outputs": [],
   "source": [
    "# Select Townships\n",
    "township_select = Select(WebDriverWait(driver, 10).until(\n",
    "    EC.presence_of_element_located((By.ID, \"advanced-search-townships\"))\n",
    "))\n",
    "township_select.select_by_value(\"02\")\n",
    "township_select.select_by_value(\"11\")\n",
    "township_select.select_by_value(\"01\")\n",
    "township_select.select_by_value(\"06\")"
   ]
  },
  {
   "cell_type": "code",
   "execution_count": null,
   "id": "88bf34ed-aad2-4a5d-a3f4-603e591e41f9",
   "metadata": {
    "scrolled": true
   },
   "outputs": [],
   "source": [
    "# Check All Years Box and Search\n",
    "all_years_chkbx = WebDriverWait(driver, 10).until(\n",
    "    EC.element_to_be_clickable((By.ID, \"advanced-search-include-all-years\"))\n",
    ")\n",
    "form = WebDriverWait(driver, 10).until(\n",
    "    EC.presence_of_element_located((By.XPATH, \"//form\"))\n",
    ")\n",
    "driver.execute_script(f\"document.getElementById('advanced-search-include-all-years').click()\")\n",
    "all_years_chkbx.submit()"
   ]
  },
  {
   "cell_type": "code",
   "execution_count": null,
   "id": "67f43f54-65e3-4634-9da3-8d8b1d54ac8f",
   "metadata": {},
   "outputs": [],
   "source": [
    "# Export Results to CSV and Download\n",
    "export_btn = WebDriverWait(driver, 10).until(\n",
    "    EC.element_to_be_clickable((By.XPATH, \"//a[@href='/Search/ExportClientsListToCSV']\"))\n",
    ")\n",
    "export_btn.click()"
   ]
  },
  {
   "cell_type": "code",
   "execution_count": null,
   "id": "7947ed62-acc7-4d82-bfe6-a1d2568c34b8",
   "metadata": {},
   "outputs": [],
   "source": [
    "driver.quit()"
   ]
  },
  {
   "cell_type": "markdown",
   "id": "e556a1e6-efd6-4bd5-809e-fb258338d173",
   "metadata": {},
   "source": [
    "### Scrape Parcel Information Tables"
   ]
  },
  {
   "cell_type": "code",
   "execution_count": null,
   "id": "55549d14-75ea-4acb-bc3b-d18b26ca36e7",
   "metadata": {},
   "outputs": [],
   "source": [
    "parcel_list_df = pd.read_csv(\"Exported_Search_Results.csv\")"
   ]
  },
  {
   "cell_type": "code",
   "execution_count": null,
   "id": "d9cf3888-b52a-4283-8667-11b625f7501f",
   "metadata": {},
   "outputs": [],
   "source": [
    "parcel_list_df.describe(include=\"all\")"
   ]
  },
  {
   "cell_type": "code",
   "execution_count": null,
   "id": "bd71b510-0436-4167-8a4a-d07dff3b3095",
   "metadata": {},
   "outputs": [],
   "source": [
    "parcel_list_df.head()"
   ]
  },
  {
   "cell_type": "code",
   "execution_count": null,
   "id": "ee63c574-4c4b-4e48-aa5b-3713ff97dacf",
   "metadata": {},
   "outputs": [],
   "source": [
    "# Format PropertyAccountNumber to be Solely Numeric + 'X'\n",
    "def only_numeric(str):\n",
    "    return \"\".join(re.findall(r\"[\\dX]\", str))\n",
    "\n",
    "parcel_list_df['Property Account Number'] = parcel_list_df['Property Account Number'].apply(only_numeric)\n",
    "parcel_list_df.head()"
   ]
  },
  {
   "cell_type": "code",
   "execution_count": null,
   "id": "057f9ca6-a0db-4a0e-a300-2a2eb3e73bad",
   "metadata": {},
   "outputs": [],
   "source": [
    "with open(\"Exported_Search_Results.csv\", newline=\"\") as csvfile:\n",
    "    reader = csv.reader(csvfile)\n",
    "    parcel_list = list(reader)[2:]\n",
    "\n",
    "url_pcs = [ (only_numeric(row[1]), row[0]) for row in parcel_list ]\n",
    "display(len(url_pcs))\n",
    "print(url_pcs[::1000])"
   ]
  },
  {
   "cell_type": "code",
   "execution_count": null,
   "id": "97764104-4c9a-4126-9b5c-5d50c43025ac",
   "metadata": {},
   "outputs": [],
   "source": [
    "def scrape_parcel_pg(listing_number, listing_year):\n",
    "    parcel_url = f\"{search_pg}parcel/view/{listing_number}/{listing_year}\"\n",
    "    parcel_pg = requests.get(parcel_url)\n",
    "    parcel_pg = BeautifulSoup(parcel_pg.text, \"html.parser\")\n",
    "    panel_divs = parcel_pg.find_all(class_=\"panel panel-info\")\n",
    "        \n",
    "    tables_dict = {}\n",
    "    \n",
    "    for div in panel_divs:\n",
    "        try:\n",
    "            tbl_key = div.div.h3.text\n",
    "            tbl = div.div.h3.parent.find_next_sibling().find(\"table\").prettify()\n",
    "            tables_dict[tbl_key] = pd.read_html(StringIO(tbl))[0]\n",
    "        except:\n",
    "            continue\n",
    "    \n",
    "    parcel_number = listing_number\n",
    "    year = int(listing_year)\n",
    "\n",
    "    try:\n",
    "        # Property Information Table\n",
    "        parcel_address = tables_dict['Property Information'][1][0].split(\"Site Address\")[1].strip()\n",
    "        sale_status = tables_dict[\"Property Information\"][0][2].split(\"Sale Status\")[1].strip()\n",
    "        property_class = tables_dict[\"Property Information\"][0][3].split(\"-\")[0].split(\"Property Class\")[1].strip()\n",
    "        tax_status = tables_dict[\"Property Information\"][2][3].split(\"Tax Status\")[1].strip()\n",
    "        net_taxable = tables_dict[\"Property Information\"][0][4].split(\"Net Taxable Value\")[1].replace(\",\", \"\").strip(\"\")\n",
    "        tax_rate = tables_dict[\"Property Information\"][1][4].split(\"Tax Rate\")[1].strip()\n",
    "        total_tax = tables_dict[\"Property Information\"][2][4].split(\"$\")[1].strip()\n",
    "        township = tables_dict[\"Property Information\"][0][5].split(\"Township\")[1].strip()\n",
    "        acreage = tables_dict[\"Property Information\"][1][5].split(\"Acres\")[1].strip()\n",
    "        \n",
    "        # Assessments Table\n",
    "        homesite_val = tables_dict[\"Assessments\"].get(\"Homesite\")[0]\n",
    "        dwelling_val = tables_dict[\"Assessments\"].get(\"Dwelling\")[0]\n",
    "        dept_rev_val = tables_dict[\"Assessments\"].get(\"Total\")[0]\n",
    "    \n",
    "        # Billing Table\n",
    "        total_billed = tables_dict[\"Billing\"].get(\"Totals\")[4].strip(\"$\")\n",
    "        total_unpaid = tables_dict[\"Billing\"].get(\"Totals\")[6].strip(\"$\")\n",
    "    \n",
    "        # Owner Information Table\n",
    "        owner_name = tables_dict[\"Parcel Owner Information\"].get(\"Name\")[0]\n",
    "        owner_address = tables_dict[\"Parcel Owner Information\"].get(\"Address\")[0]\n",
    "    except Exception as err:\n",
    "        time.sleep(1)\n",
    "        return {\n",
    "            \"parcel\": listing_number,\n",
    "            \"year\": listing_year,\n",
    "            \"error\": err\n",
    "        }\n",
    "    else:\n",
    "        time.sleep(2)\n",
    "        return {\n",
    "            \"parcel_number\": parcel_number,\n",
    "            \"year\": year,\n",
    "            \"parcel_address\": parcel_address,\n",
    "            \"owner\": owner_name,\n",
    "            \"owner_address\": owner_address,\n",
    "            \"sale_status\": sale_status,\n",
    "            \"property_class\": property_class,\n",
    "            \"tax_status\": tax_status,\n",
    "            \"net_taxable\": net_taxable, \n",
    "            \"tax_rate\": tax_rate,\n",
    "            \"total_tax\": total_tax,\n",
    "            \"township\": township,\n",
    "            \"acreage\": acreage,\n",
    "            \"homesite_val\": homesite_val, \n",
    "            \"dwelling_val\": dwelling_val,\n",
    "            \"dept_rev_val\": dept_rev_val,\n",
    "            \"total_billed\": total_billed,\n",
    "            \"total_unpaid\": total_unpaid\n",
    "        }\n"
   ]
  },
  {
   "cell_type": "code",
   "execution_count": null,
   "id": "f77333fa-436b-4cfd-ac5c-355df2d9b81d",
   "metadata": {
    "editable": true,
    "slideshow": {
     "slide_type": ""
    },
    "tags": []
   },
   "outputs": [],
   "source": [
    "def write_records():\n",
    "    \n",
    "    function_start = time.perf_counter()\n",
    "    max_threads = 1000\n",
    "    processed_ct = 0\n",
    "    records_missed = []\n",
    "    parcel_records = []\n",
    "    success_headers = [\n",
    "        \"parcel_number\", \"year\", \"parcel_address\", \"owner\", \"owner_address\", \n",
    "        \"sale_status\", \"property_class\", \"tax_status\", \"net_taxable\", \n",
    "        \"tax_rate\", \"total_tax\", \"township\", \"acreage\", \"homesite_val\", \n",
    "        \"dwelling_val\", \"dept_rev_val\", \"total_billed\", \"total_unpaid\"\n",
    "    ]\n",
    "    fail_headers = [\"parcel\", \"year\", \"error\"]\n",
    "    record_q = Queue() \n",
    "    csv_rlock = RLock()\n",
    "    flush_lock = Lock()\n",
    "\n",
    "    \n",
    "    def write_CSV(filename, headers, data, r_lock):\n",
    "        with r_lock:\n",
    "            if os.path.exists(filename):\n",
    "                with open(filename, mode=\"a\", newline=\"\") as records_file:\n",
    "                    records_writer = csv.writer(records_file, dialect=\"excel\")\n",
    "                    records_writer.writerows(data)\n",
    "                    data.clear()\n",
    "            else:\n",
    "                with open(filename, mode=\"a\", newline=\"\") as records_file:\n",
    "                    records_writer = csv.writer(records_file, dialect=\"excel\")\n",
    "                    records_writer.writerow(headers)\n",
    "                    records_writer.writerows(data)\n",
    "                    data.clear()\n",
    "    \n",
    "    def process_records_q(rec_queue, batch_start_t, r_lock):\n",
    "        parcel_info = rec_queue.get()\n",
    "        if len(parcel_info) == 18:\n",
    "            parcel_records.append(list(parcel_info.values()))\n",
    "            if len(parcel_records) == 500:\n",
    "                write_CSV(\"parcel_records.csv\", success_headers, parcel_records, r_lock)\n",
    "                parcel_records.clear()\n",
    "        if len(parcel_info) == 3:\n",
    "            records_missed.append(list(parcel_info.values()))\n",
    "            if len(records_missed) == 50:\n",
    "                write_CSV(\"missed_records.csv\", fail_headers, records_missed, r_lock)\n",
    "                records_missed.clear()\n",
    "\n",
    "    def flushing_writes(fxn_start_t, lock):\n",
    "        write_CSV(\"parcel_records.csv\", success_headers, parcel_records, lock)\n",
    "        write_CSV(\"missed_records.csv\", fail_headers, records_missed, lock)\n",
    "        print(f\"Writing parcel datums took: {timedelta(seconds=time.perf_counter()-fxn_start_t)} seconds.\")\n",
    "        records_df = pd.read_csv(\"parcel_records.csv\")\n",
    "        fail_df = pd.read_csv(\"missed_records.csv\")\n",
    "        display(records_df.describe(include=\"all\"))\n",
    "        display(fail_df.describe(include=\"all\"))\n",
    "\n",
    "    def q_flow():\n",
    "        print(\"Running queue\")\n",
    "        while True:\n",
    "            while record_q.empty() == False:\n",
    "                process_records_q(record_q, batch_write_start, csv_rlock)\n",
    "            else:\n",
    "                time.sleep(3)\n",
    "                continue\n",
    "\n",
    "    \n",
    "    q_thread = Thread(target=q_flow)\n",
    "\n",
    "    url_list_length = len(url_pcs)\n",
    "    decimals = [ i/10 for i in range(1, 11, 1) ]\n",
    "    split_length = [ url_list_length*decimal for decimal in decimals ]\n",
    "\n",
    "    with ThreadPoolExecutor(max_workers=max_threads) as p1:\n",
    "        begin_at = 0\n",
    "        for split in split_length:\n",
    "            print(\"Proceeding...\")\n",
    "            futures = [ p1.submit(scrape_parcel_pg, row[0], row[1]) for row in url_pcs[begin_at:math.floor(split)] ]\n",
    "            if q_thread.is_alive() == False:\n",
    "                q_thread.start()\n",
    "            elif q_thread.is_alive() == True:\n",
    "                pass\n",
    "            batch_write_start = time.perf_counter()\n",
    "            for future in as_completed(futures):\n",
    "                record_q.put(future.result())\n",
    "                processed_ct += 1\n",
    "                if processed_ct % 500 == 0:\n",
    "                    print(f\"Have processed {processed_ct} records in {timedelta(seconds=time.perf_counter()-batch_write_start)} seconds.\")\n",
    "                    batch_write_start = time.perf_counter()\n",
    "            flushing_writes(function_start, flush_lock)\n",
    "            begin_at = math.floor(split)\n",
    "            time.sleep(30)\n",
    "            print(f\"Proceeding to next batch...setting at index {begin_at}..\")\n",
    "    print(\"Finished.\")\n",
    "    exit()\n",
    "    \n",
    "                \n"
   ]
  },
  {
   "cell_type": "code",
   "execution_count": null,
   "id": "5fed21ab-d134-4105-8a69-676dedaa2874",
   "metadata": {
    "editable": true,
    "slideshow": {
     "slide_type": ""
    },
    "tags": []
   },
   "outputs": [],
   "source": [
    "write_records()"
   ]
  },
  {
   "cell_type": "code",
   "execution_count": null,
   "id": "92713fe7-5157-4b83-b03e-03b90e6ba5a7",
   "metadata": {
    "scrolled": true
   },
   "outputs": [],
   "source": [
    "records_df = pd.read_csv(\"parcel_records.csv\")\n",
    "display(records_df.dtypes)\n",
    "display(records_df.sample(7))\n",
    "display(records_df.describe(include=\"all\"))\n"
   ]
  },
  {
   "cell_type": "markdown",
   "id": "42b58b77-62e4-4987-a47a-e71d9e3ac832",
   "metadata": {},
   "source": [
    "## Data Cleaning with PySpark and YData Profiling"
   ]
  },
  {
   "cell_type": "code",
   "execution_count": null,
   "id": "44062fd8-1008-43ee-9058-eb79e6dbb7e7",
   "metadata": {},
   "outputs": [],
   "source": [
    "spark = SparkSession.builder \\\n",
    "    .appName(\"stcc_ppln\") \\\n",
    "    .config(\"spark.sql.shuffle.partitions\", \"10\") \\\n",
    "    .config(\"spark.sql.execution.arrow.pyspark.enabled\",\"true\") \\\n",
    "    .config(\"spark.sql.caseSensitive\", True) \\\n",
    "    .master(\"local[*]\") \\\n",
    "    .getOrCreate()\n",
    "sc = spark.sparkContext\n",
    "logger = sc._jvm.org.apache.log4j\n",
    "logger.LogManager.getLogger(\"org.apache.spark.util.ShutdownHookManager\").setLevel(logger.Level.OFF)\n",
    "logger.LogManager.getLogger(\"org.apache.spark.SparkEnv\").setLevel(logger.Level.ERROR)"
   ]
  },
  {
   "cell_type": "markdown",
   "id": "198a8313-a35f-4906-a6ba-e086795611f5",
   "metadata": {},
   "source": [
    "### Data Profiling"
   ]
  },
  {
   "cell_type": "code",
   "execution_count": null,
   "id": "4368ae53-f658-4752-9c60-0b6867259ff5",
   "metadata": {},
   "outputs": [],
   "source": [
    "records_df = spark.read \\\n",
    "    .option(\"header\", True) \\\n",
    "    .option(\"inferSchema\", True) \\\n",
    "    .csv(\"parcel_records.csv\")\n",
    "records_df.printSchema()"
   ]
  },
  {
   "cell_type": "code",
   "execution_count": null,
   "id": "b6155d50-44ae-417b-8f4f-ef43e1f74acb",
   "metadata": {},
   "outputs": [],
   "source": [
    "records_df.show(1, truncate=False, vertical=True)"
   ]
  },
  {
   "cell_type": "code",
   "execution_count": null,
   "id": "a1903e02-a00a-4cdb-bcec-3f3c0db1e5b1",
   "metadata": {},
   "outputs": [],
   "source": [
    "record_profile = ProfileReport(records_df.toPandas())"
   ]
  },
  {
   "cell_type": "code",
   "execution_count": null,
   "id": "81e231cb-c281-40c4-87a0-1185571e859e",
   "metadata": {
    "scrolled": true
   },
   "outputs": [],
   "source": [
    "record_profile.to_notebook_iframe()"
   ]
  },
  {
   "cell_type": "code",
   "execution_count": null,
   "id": "3c28295b-f981-4fe3-b6b2-9f230e77baab",
   "metadata": {},
   "outputs": [],
   "source": [
    "record_df = records_df \\\n",
    "    .withColumn(\"parcel_number\", F.col(\"parcel_number\").cast(\"string\").alias(\"parcel_number\")) \\\n",
    "    .withColumn(\"net_taxable\", F.regexp_replace(F.col(\"net_taxable\"), \",\", \"\").cast(\"integer\").alias(\"net_taxable\")) \\\n",
    "    .withColumn(\"tax_rate\", F.col(\"tax_rate\").cast(\"decimal(8, 6)\").alias(\"tax_rate\")) \\\n",
    "    .withColumn(\"total_tax\", F.col(\"total_tax\").cast(\"double\").alias(\"total_tax\")) \\\n",
    "    .withColumn(\"homesite_val\", F.col(\"homesite_val\").cast(\"double\").alias(\"homesite_val\")) \\\n",
    "    .withColumn(\"dept_rev_val\", F.col(\"dept_rev_val\").cast(\"double\").alias(\"dept_rev_val\")) \\\n",
    "    .withColumn(\"total_billed\", F.col(\"total_billed\").cast(\"double\").alias(\"total_billed\")) \\\n",
    "    .withColumn(\"total_unpaid\", F.col(\"total_unpaid\").cast(\"double\").alias(\"total_unpaid\")) \\\n",
    "    .dropDuplicates()"
   ]
  },
  {
   "cell_type": "code",
   "execution_count": null,
   "id": "329797e4-6944-45ef-8ae2-d4f328a4c906",
   "metadata": {},
   "outputs": [],
   "source": [
    "record_df.printSchema()"
   ]
  },
  {
   "cell_type": "code",
   "execution_count": null,
   "id": "f083c355-343c-45a5-9e9b-4390449948e0",
   "metadata": {
    "scrolled": true
   },
   "outputs": [],
   "source": [
    "record_df.show(5, truncate=False)"
   ]
  },
  {
   "cell_type": "markdown",
   "id": "303cc01e-8f26-4a32-90ce-3fb16819e072",
   "metadata": {},
   "source": [
    "Missing the leading zeroes on the parcel_number column data. Extract the ideal schema from record_df and use it to recreate records_df by reading from the CSV file."
   ]
  },
  {
   "cell_type": "code",
   "execution_count": null,
   "id": "22dd40f2-6c80-4cac-a562-edf7f1da378d",
   "metadata": {},
   "outputs": [],
   "source": [
    "parcel_record_schema = record_df.schema\n",
    "records_df = spark.read \\\n",
    "    .option(\"header\", True) \\\n",
    "    .schema(parcel_record_schema) \\\n",
    "    .csv(\"parcel_records.csv\")\n",
    "records_df.printSchema()\n",
    "records_df.show(5, truncate=False)"
   ]
  },
  {
   "cell_type": "code",
   "execution_count": null,
   "id": "d50d160a-f553-4a19-a621-4425670d3b9f",
   "metadata": {},
   "outputs": [],
   "source": [
    "records_df.select(\"*\").where(F.isnull(\"net_taxable\")).show(10, truncate=False)"
   ]
  },
  {
   "cell_type": "code",
   "execution_count": null,
   "id": "19261d86-39ae-4d76-b352-86740e5a9d6a",
   "metadata": {},
   "outputs": [],
   "source": [
    "timesrs_schema = {\n",
    "    \"year\": \"timeseries\",\n",
    "    \"net_taxable\": \"timeseries\",\n",
    "    # \"tax_rate\": \"timeseries\",\n",
    "    \"total_tax\": \"timeseries\",\n",
    "    \"acreage\": \"timeseries\",\n",
    "    \"homesite_val\": \"timeseries\",\n",
    "    \"dwelling_val\": \"timeseries\",\n",
    "    \"dept_rev_val\": \"timeseries\",\n",
    "    \"total_billed\": \"timeseries\",\n",
    "    \"total_unpaid\": \"timeseries\",\n",
    "}"
   ]
  },
  {
   "cell_type": "code",
   "execution_count": null,
   "id": "c3b59eb9-fcad-4811-8f37-656e36009c34",
   "metadata": {},
   "outputs": [],
   "source": [
    "records_profile = ProfileReport(records_df.toPandas(), tsmode=True, type_schema=timesrs_schema, sortby=\"year\")"
   ]
  },
  {
   "cell_type": "code",
   "execution_count": null,
   "id": "3349bfc8-6610-411e-997c-7b2aa082aea5",
   "metadata": {
    "scrolled": true
   },
   "outputs": [],
   "source": [
    "records_profile.to_notebook_iframe()"
   ]
  },
  {
   "cell_type": "markdown",
   "id": "d0bf9a19-def8-4469-88ce-4e95b7570a84",
   "metadata": {},
   "source": [
    "### Data Validation"
   ]
  },
  {
   "cell_type": "markdown",
   "id": "8c9188bc-7251-4f1d-8ab4-f4cc04d8a940",
   "metadata": {},
   "source": [
    "Dropping duplicate records and those missing values for required information than cannot be substituted."
   ]
  },
  {
   "cell_type": "code",
   "execution_count": null,
   "id": "57accb1f-d546-47ff-96e8-b9eeab0fee75",
   "metadata": {},
   "outputs": [],
   "source": [
    "records_df = records_df.drop_duplicates()"
   ]
  },
  {
   "cell_type": "code",
   "execution_count": null,
   "id": "112e9303-6390-400b-852f-f012ddb3ce98",
   "metadata": {},
   "outputs": [],
   "source": [
    "records_df.select(\"*\").where(F.isnull(\"parcel_address\")).show(truncate=False)"
   ]
  },
  {
   "cell_type": "markdown",
   "id": "4084bc0b-4bc6-494f-80bd-4209386e140a",
   "metadata": {},
   "source": [
    "The above parcel record is for the coal on a lot designated in another field without an address. \"Legal Description: COAL UNDERLYING LOT/SEC-33-SUBL/TWP-2N-BLK/RG-7W SW 1/4 A02197454\". This parcel is a child parcel created via combination, so the address of the parent parcel will replace the null value."
   ]
  },
  {
   "cell_type": "code",
   "execution_count": null,
   "id": "f5d7d643-b390-4e75-b7c5-407127b8a750",
   "metadata": {},
   "outputs": [],
   "source": [
    "records_df = records_df.fillna(\"STATE RT 50 OFALLON, IL 62269\", \"parcel_address\")"
   ]
  },
  {
   "cell_type": "code",
   "execution_count": null,
   "id": "710cf323-41b6-4fab-abbe-b1b73ed9ee95",
   "metadata": {},
   "outputs": [],
   "source": [
    "records_df.select(\"*\").where(F.isnull(\"parcel_address\")).show(truncate=False)"
   ]
  },
  {
   "cell_type": "code",
   "execution_count": null,
   "id": "da1df787-b034-48e8-a5a9-b6397a9de438",
   "metadata": {},
   "outputs": [],
   "source": [
    "records_df.select(\"*\").where(F.isnull(\"net_taxable\")).show(10, truncate=False)"
   ]
  },
  {
   "cell_type": "markdown",
   "id": "5e834231-e212-4d52-91d9-d77c37fc0340",
   "metadata": {},
   "source": [
    "The null values point to an issue casting the comma-formatted string of an integer to the attempted double data type."
   ]
  },
  {
   "cell_type": "code",
   "execution_count": null,
   "id": "92a50701-ad11-4053-89dd-41a6d3de6496",
   "metadata": {},
   "outputs": [],
   "source": [
    "null_net_tax_df = records_df.select(\"*\").where(F.isnull(\"net_taxable\"))\n",
    "# TODO: Delete comma from net_taxable value when scraping.\n",
    "null_net_tax_df.select(\"*\") \\\n",
    "    .withColumn(\"net_taxable\", F.col(\"net_taxable\").cast(\"string\").alias(\"net_taxable\")) \\\n",
    "    .replace(\",\", \"\").show(10, truncate=False)"
   ]
  },
  {
   "cell_type": "code",
   "execution_count": null,
   "id": "258039bd-1bf2-406c-a5af-190b8f298664",
   "metadata": {},
   "outputs": [],
   "source": [
    "records_df.select(\"*\").where(F.isnull(\"total_tax\")).show(10, truncate=False)"
   ]
  },
  {
   "cell_type": "code",
   "execution_count": null,
   "id": "2605ea58-1ba4-44ca-9332-fe9df45dacdb",
   "metadata": {},
   "outputs": [],
   "source": [
    "records_df.select(\"*\").where(F.col(\"acreage\") == 0).show(10, truncate=False)"
   ]
  },
  {
   "cell_type": "code",
   "execution_count": null,
   "id": "34df06bc-e56c-4d54-817d-bd7ea5ba3ebb",
   "metadata": {},
   "outputs": [],
   "source": [
    "records_df.select(\"*\").where(F.isnull(\"homesite_val\")).show(truncate=False)"
   ]
  },
  {
   "cell_type": "code",
   "execution_count": null,
   "id": "635cd732-f949-4018-8614-dd8feabd929a",
   "metadata": {},
   "outputs": [],
   "source": [
    "records_df.select(\"*\").where(F.isnull(\"total_billed\")).show(10, truncate=False)"
   ]
  },
  {
   "cell_type": "code",
   "execution_count": null,
   "id": "95eb0ee2-e155-42c3-a471-ee43d327c16e",
   "metadata": {},
   "outputs": [],
   "source": [
    "records_df.select(\"*\").where(F.isnull(\"total_unpaid\")).show(truncate=False)"
   ]
  },
  {
   "cell_type": "code",
   "execution_count": null,
   "id": "4e3b96ff-3e14-4583-bc78-b0dfc3d426a6",
   "metadata": {},
   "outputs": [],
   "source": []
  }
 ],
 "metadata": {
  "kernelspec": {
   "display_name": "land_use_venv",
   "language": "python",
   "name": "land_use_venv"
  },
  "language_info": {
   "codemirror_mode": {
    "name": "ipython",
    "version": 3
   },
   "file_extension": ".py",
   "mimetype": "text/x-python",
   "name": "python",
   "nbconvert_exporter": "python",
   "pygments_lexer": "ipython3",
   "version": "3.10.11"
  }
 },
 "nbformat": 4,
 "nbformat_minor": 5
}
